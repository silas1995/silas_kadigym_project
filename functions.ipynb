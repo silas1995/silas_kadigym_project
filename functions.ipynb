{
 "cells": [
  {
   "cell_type": "code",
   "execution_count": 1,
   "id": "079bb15a",
   "metadata": {},
   "outputs": [
    {
     "data": {
      "text/plain": [
       "7.3"
      ]
     },
     "execution_count": 1,
     "metadata": {},
     "output_type": "execute_result"
    }
   ],
   "source": [
    "def sum(a:float,b: float) ->float:\n",
    "    return float(a+b)\n",
    "\n",
    "c=sum(2.3,5)\n",
    "c"
   ]
  },
  {
   "cell_type": "code",
   "execution_count": 4,
   "id": "5cdcbd4b",
   "metadata": {},
   "outputs": [
    {
     "name": "stdout",
     "output_type": "stream",
     "text": [
      "314.159\n"
     ]
    }
   ],
   "source": [
    "def multiply(a:int,b: float=3.14159) -> float:\n",
    "    return a*b\n",
    "print(multiply(100))"
   ]
  },
  {
   "cell_type": "code",
   "execution_count": null,
   "id": "1c67025c",
   "metadata": {},
   "outputs": [],
   "source": [
    "def greet(first, last):\n",
    "    return f\"My name is {first} {last}\"\n",
    "\n",
    "# Take input from the user\n",
    "first_name = input(\"Enter your first name: \")\n",
    "last_name = input(\"Enter your last name: \")\n",
    "\n",
    "# Call the function and print the greeting\n",
    "print(greet(first_name, last_name))\n"
   ]
  },
  {
   "cell_type": "code",
   "execution_count": 9,
   "id": "1c6cfb84",
   "metadata": {},
   "outputs": [
    {
     "name": "stdout",
     "output_type": "stream",
     "text": [
      "15.70795\n"
     ]
    }
   ],
   "source": [
    "def multiply(a: float, b: float = 3.14159) -> float:\n",
    "    return a * b\n",
    "\n",
    "def complex(a: int, b: int) -> float:\n",
    "    c = float(a + b)       # Add and convert to float\n",
    "    d = multiply(c)        # Multiply by default value of pi\n",
    "    return d\n",
    "\n",
    "print(complex(2, 3))\n"
   ]
  },
  {
   "cell_type": "code",
   "execution_count": 2,
   "id": "3ce3f0b0",
   "metadata": {},
   "outputs": [
    {
     "name": "stdout",
     "output_type": "stream",
     "text": [
      "7\n"
     ]
    }
   ],
   "source": [
    "a=input(\"value:\")\n",
    "print(a)"
   ]
  }
 ],
 "metadata": {
  "kernelspec": {
   "display_name": ".venv",
   "language": "python",
   "name": "python3"
  },
  "language_info": {
   "codemirror_mode": {
    "name": "ipython",
    "version": 3
   },
   "file_extension": ".py",
   "mimetype": "text/x-python",
   "name": "python",
   "nbconvert_exporter": "python",
   "pygments_lexer": "ipython3",
   "version": "3.13.3"
  }
 },
 "nbformat": 4,
 "nbformat_minor": 5
}
