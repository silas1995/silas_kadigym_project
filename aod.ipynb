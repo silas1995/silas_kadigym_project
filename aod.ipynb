{
 "cells": [
  {
   "cell_type": "code",
   "execution_count": 1,
   "id": "a72cdc0c",
   "metadata": {},
   "outputs": [
    {
     "name": "stdout",
     "output_type": "stream",
     "text": [
      "Requirement already satisfied: scikit-learn in c:\\users\\user\\desktop\\git\\silas_kadigym_project\\.venv\\lib\\site-packages (1.6.1)\n",
      "Requirement already satisfied: numpy>=1.19.5 in c:\\users\\user\\desktop\\git\\silas_kadigym_project\\.venv\\lib\\site-packages (from scikit-learn) (2.2.5)\n",
      "Requirement already satisfied: scipy>=1.6.0 in c:\\users\\user\\desktop\\git\\silas_kadigym_project\\.venv\\lib\\site-packages (from scikit-learn) (1.15.2)\n",
      "Requirement already satisfied: joblib>=1.2.0 in c:\\users\\user\\desktop\\git\\silas_kadigym_project\\.venv\\lib\\site-packages (from scikit-learn) (1.4.2)\n",
      "Requirement already satisfied: threadpoolctl>=3.1.0 in c:\\users\\user\\desktop\\git\\silas_kadigym_project\\.venv\\lib\\site-packages (from scikit-learn) (3.6.0)\n"
     ]
    }
   ],
   "source": [
    "#import libraries\n",
    "!pip install scikit-learn\n",
    "import matplotlib.pyplot as plt\n",
    "import pandas as pd\n",
    "import numpy as np\n",
    "import matplotlib.pyplot as plt\n",
    "from sklearn.linear_model import LinearRegression\n",
    "from sklearn.model_selection import train_test_split"
   ]
  },
  {
   "cell_type": "code",
   "execution_count": 3,
   "id": "84167fc1",
   "metadata": {},
   "outputs": [
    {
     "ename": "TypeError",
     "evalue": "read_csv() got an unexpected keyword argument 'has_header'",
     "output_type": "error",
     "traceback": [
      "\u001b[31m---------------------------------------------------------------------------\u001b[39m",
      "\u001b[31mTypeError\u001b[39m                                 Traceback (most recent call last)",
      "\u001b[36mCell\u001b[39m\u001b[36m \u001b[39m\u001b[32mIn[3]\u001b[39m\u001b[32m, line 2\u001b[39m\n\u001b[32m      1\u001b[39m \u001b[38;5;66;03m# Read the data\u001b[39;00m\n\u001b[32m----> \u001b[39m\u001b[32m2\u001b[39m df = \u001b[43mpd\u001b[49m\u001b[43m.\u001b[49m\u001b[43mread_csv\u001b[49m\u001b[43m(\u001b[49m\u001b[33;43m\"\u001b[39;49m\u001b[33;43mdata/Kenya_g4.areaAvgTimeSeries.MYD08_D3_6_1_AOD_550_Dark_Target_Deep_Blue_Combined_Mean.20030101-20221231.180W_90S_180E_90N.csv\u001b[39;49m\u001b[33;43m\"\u001b[39;49m\u001b[43m,\u001b[49m\n\u001b[32m      3\u001b[39m \u001b[43m    \u001b[49m\u001b[43mskiprows\u001b[49m\u001b[43m=\u001b[49m\u001b[32;43m8\u001b[39;49m\u001b[43m,\u001b[49m\n\u001b[32m      4\u001b[39m \u001b[43m    \u001b[49m\u001b[43mhas_header\u001b[49m\u001b[43m=\u001b[49m\u001b[38;5;28;43;01mTrue\u001b[39;49;00m\u001b[43m,\u001b[49m\n\u001b[32m      5\u001b[39m \u001b[43m)\u001b[49m\n\u001b[32m      7\u001b[39m \u001b[38;5;66;03m# Check the first few values in the 'time' column\u001b[39;00m\n\u001b[32m      8\u001b[39m \u001b[38;5;28mprint\u001b[39m(\u001b[33m\"\u001b[39m\u001b[33mFirst 10 values in \u001b[39m\u001b[33m'\u001b[39m\u001b[33mtime\u001b[39m\u001b[33m'\u001b[39m\u001b[33m column:\u001b[39m\u001b[33m\"\u001b[39m)\n",
      "\u001b[31mTypeError\u001b[39m: read_csv() got an unexpected keyword argument 'has_header'"
     ]
    }
   ],
   "source": [
    "\n",
    "\n",
    "# Read the data\n",
    "df = pd.read_csv(\"data/Kenya_g4.areaAvgTimeSeries.MYD08_D3_6_1_AOD_550_Dark_Target_Deep_Blue_Combined_Mean.20030101-20221231.180W_90S_180E_90N.csv\",\n",
    "    skiprows=8,\n",
    "    has_header=True,\n",
    ")\n",
    "\n",
    "# Check the first few values in the 'time' column\n",
    "print(\"First 10 values in 'time' column:\")\n",
    "print(df.select(\"time\").head(10))\n",
    "\n",
    "# Step 1: Replace any unwanted characters (like extra spaces or symbols) in the 'time' column\n",
    "df = df.with_columns(\n",
    "    pl.col(\"time\").str.replace(r\"\\s+\", \"\").alias(\"time_clean\")  # Remove all whitespace\n",
    ")\n",
    "\n",
    "# Step 2: Manually clean problematic entries like '#NAME?' or empty strings\n",
    "df = df.with_columns(\n",
    "    pl.when(pl.col(\"time_clean\").is_in([\"#NAME?\", \"\"]))  # Handle invalid entries\n",
    "    .then(None)\n",
    "    .otherwise(pl.col(\"time_clean\"))\n",
    "    .alias(\"time_clean\")\n",
    ")\n",
    "\n",
    "# Step 3: Try to parse the cleaned time column (format: mm/dd/yyyy)\n",
    "df = df.with_columns(\n",
    "    pl.col(\"time_clean\")\n",
    "    .str.strptime(pl.Datetime, \"%m/%d/%Y\")  # Parsing the date in m/d/yyyy format\n",
    "    .alias(\"date_parsed\")  # Store the parsed date in a new column\n",
    ")\n",
    "\n",
    "# Step 4: Display the results to check if the dates are being parsed correctly\n",
    "print(\"First 10 rows after parsing 'time' column:\")\n",
    "print(df.select([\"time_clean\", \"date_parsed\"]).head(10))\n",
    "\n",
    "# If parsing is successful, proceed with the aod column\n",
    "df = df.with_columns(\n",
    "    pl.when(pl.col(\"mean_MYD08_D3_6_1_AOD_550_Dark_Target_Deep_Blue_Combined_Mean\") == \"#NAME?\")  # Handle invalid AOD values\n",
    "    .then(None)\n",
    "    .otherwise(pl.col(\"mean_MYD08_D3_6_1_AOD_550_Dark_Target_Deep_Blue_Combined_Mean\"))\n",
    "    .cast(pl.Float64)\n",
    "    .alias(\"aod\")  # Rename the column to 'aod'.lazy()\n",
    ")\n",
    "\n",
    "# Display the final dataframe\n",
    "print(\"Final dataframe after processing:\")\n",
    "print(df.head())\n"
   ]
  }
 ],
 "metadata": {
  "kernelspec": {
   "display_name": ".venv",
   "language": "python",
   "name": "python3"
  },
  "language_info": {
   "codemirror_mode": {
    "name": "ipython",
    "version": 3
   },
   "file_extension": ".py",
   "mimetype": "text/x-python",
   "name": "python",
   "nbconvert_exporter": "python",
   "pygments_lexer": "ipython3",
   "version": "3.13.3"
  }
 },
 "nbformat": 4,
 "nbformat_minor": 5
}
