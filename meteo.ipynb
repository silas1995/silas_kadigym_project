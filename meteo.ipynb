{
 "cells": [
  {
   "cell_type": "markdown",
   "id": "85ed3b35",
   "metadata": {},
   "source": [
    "#read the file as txt and print\n",
    "#read file in polaris dataframe"
   ]
  },
  {
   "cell_type": "code",
   "execution_count": 2,
   "id": "01f929c3",
   "metadata": {},
   "outputs": [
    {
     "name": "stderr",
     "output_type": "stream",
     "text": [
      "<>:2: SyntaxWarning: invalid escape sequence '\\m'\n",
      "<>:2: SyntaxWarning: invalid escape sequence '\\m'\n",
      "C:\\Users\\USER\\AppData\\Local\\Temp\\ipykernel_8840\\3566100879.py:2: SyntaxWarning: invalid escape sequence '\\m'\n",
      "  df=pl.read_csv (\"data_1\\meteo\\VRXA00.202310190000\")\n"
     ]
    },
    {
     "data": {
      "text/html": [
       "<div><style>\n",
       ".dataframe > thead > tr,\n",
       ".dataframe > tbody > tr {\n",
       "  text-align: right;\n",
       "  white-space: pre-wrap;\n",
       "}\n",
       "</style>\n",
       "<small>shape: (4, 1)</small><table border=\"1\" class=\"dataframe\"><thead><tr><th>15834</th></tr><tr><td>str</td></tr></thead><tbody><tr><td>&quot;VRXA00 LSSW 190000&quot;</td></tr><tr><td>null</td></tr><tr><td>&quot;iii zzzztttt tre200s0 uor200s0…</td></tr><tr><td>&quot;187 202310190000 005.1 096.9 0…</td></tr></tbody></table></div>"
      ],
      "text/plain": [
       "shape: (4, 1)\n",
       "┌─────────────────────────────────┐\n",
       "│ 15834                           │\n",
       "│ ---                             │\n",
       "│ str                             │\n",
       "╞═════════════════════════════════╡\n",
       "│ VRXA00 LSSW 190000              │\n",
       "│ null                            │\n",
       "│ iii zzzztttt tre200s0 uor200s0… │\n",
       "│ 187 202310190000 005.1 096.9 0… │\n",
       "└─────────────────────────────────┘"
      ]
     },
     "execution_count": 2,
     "metadata": {},
     "output_type": "execute_result"
    }
   ],
   "source": [
    "import polars as pl\n",
    "df=pl.read_csv (\"data_1\\meteo\\VRXA00.202310190000\")\n",
    "type(df)\n",
    "df"
   ]
  },
  {
   "cell_type": "code",
   "execution_count": 3,
   "id": "3e7e01e9",
   "metadata": {},
   "outputs": [
    {
     "name": "stderr",
     "output_type": "stream",
     "text": [
      "<>:1: SyntaxWarning: invalid escape sequence '\\m'\n",
      "<>:1: SyntaxWarning: invalid escape sequence '\\m'\n",
      "C:\\Users\\USER\\AppData\\Local\\Temp\\ipykernel_8840\\1736757009.py:1: SyntaxWarning: invalid escape sequence '\\m'\n",
      "  file_path=\"data_1\\meteo\\VRXA00.202310190000\"\n"
     ]
    }
   ],
   "source": [
    "file_path=\"data_1\\meteo\\VRXA00.202310190000\""
   ]
  },
  {
   "cell_type": "code",
   "execution_count": 4,
   "id": "d57458d6",
   "metadata": {},
   "outputs": [
    {
     "name": "stdout",
     "output_type": "stream",
     "text": [
      "['15834\\n', 'VRXA00 LSSW 190000\\n', '\\n', 'iii zzzztttt tre200s0 uor200s0 prestas0 fa1010z0 da1010z0 rre150z0 ta1200s0 ua1200s0 pa1stas0 fkl010z0 dkl010z0 ra1150z0 fkl010z1 gor000z0 ta2200s0 ua2200s0\\n', '187 202310190000 005.1 096.9 0661.2 001.9 190.4 00000.00 004.9 099.7 0661.1 002.3 233.5 00000.00 003.1 000.0 5.440 99.260\\n']\n"
     ]
    }
   ],
   "source": [
    "#read file as text and print contents\n",
    "with open(file=file_path,mode=\"r\") as fh:\n",
    "    file_content=fh.readlines()\n",
    "print(file_content)"
   ]
  },
  {
   "cell_type": "code",
   "execution_count": null,
   "id": "79506e6e",
   "metadata": {},
   "outputs": [],
   "source": []
  },
  {
   "cell_type": "code",
   "execution_count": 5,
   "id": "b7dd83d7",
   "metadata": {},
   "outputs": [
    {
     "name": "stdout",
     "output_type": "stream",
     "text": [
      "187 202310190000 005.1 096.9 0661.2 001.9 190.4 00000.00 004.9 099.7 0661.1 002.3 233.5 00000.00 003.1 000.0 5.440 99.260\n",
      "\n"
     ]
    }
   ],
   "source": [
    "values=file_content[4]\n",
    "print(values)"
   ]
  },
  {
   "cell_type": "code",
   "execution_count": 6,
   "id": "8b3d5f93",
   "metadata": {},
   "outputs": [
    {
     "data": {
      "text/plain": [
       "['15834\\n',\n",
       " 'VRXA00 LSSW 190000\\n',\n",
       " '\\n',\n",
       " 'iii zzzztttt tre200s0 uor200s0 prestas0 fa1010z0 da1010z0 rre150z0 ta1200s0 ua1200s0 pa1stas0 fkl010z0 dkl010z0 ra1150z0 fkl010z1 gor000z0 ta2200s0 ua2200s0\\n',\n",
       " '187 202310190000 005.1 096.9 0661.2 001.9 190.4 00000.00 004.9 099.7 0661.1 002.3 233.5 00000.00 003.1 000.0 5.440 99.260\\n']"
      ]
     },
     "execution_count": 6,
     "metadata": {},
     "output_type": "execute_result"
    }
   ],
   "source": [
    "file_content"
   ]
  },
  {
   "cell_type": "code",
   "execution_count": 7,
   "id": "349a20f8",
   "metadata": {},
   "outputs": [
    {
     "name": "stdout",
     "output_type": "stream",
     "text": [
      "iii zzzztttt tre200s0 uor200s0 prestas0 fa1010z0 da1010z0 rre150z0 ta1200s0 ua1200s0 pa1stas0 fkl010z0 dkl010z0 ra1150z0 fkl010z1 gor000z0 ta2200s0 ua2200s0\n",
      "\n"
     ]
    }
   ],
   "source": [
    "header=file_content[3]\n",
    "print(header)"
   ]
  },
  {
   "cell_type": "code",
   "execution_count": 8,
   "id": "928d9a34",
   "metadata": {},
   "outputs": [
    {
     "name": "stdout",
     "output_type": "stream",
     "text": [
      "['187', '202310190000', '005.1', '096.9', '0661.2', '001.9', '190.4', '00000.00', '004.9', '099.7', '0661.1', '002.3', '233.5', '00000.00', '003.1', '000.0', '5.440', '99.260']\n"
     ]
    }
   ],
   "source": [
    "values=file_content[4].split()\n",
    "print(values)"
   ]
  },
  {
   "cell_type": "code",
   "execution_count": 9,
   "id": "56e40e8f",
   "metadata": {},
   "outputs": [
    {
     "name": "stdout",
     "output_type": "stream",
     "text": [
      "Temperature value: 005.1\n"
     ]
    }
   ],
   "source": [
    "temperature_value=values[2]\n",
    "print(\"Temperature value:\",temperature_value)"
   ]
  },
  {
   "cell_type": "code",
   "execution_count": 10,
   "id": "b1f933f3",
   "metadata": {},
   "outputs": [
    {
     "name": "stdout",
     "output_type": "stream",
     "text": [
      "Temperatures: [5.1, None, 7.3, 7.0, 7.8, 8.6, 8.0, 8.1, 8.5, 8.6, None, None, None]\n",
      "Datetimes: ['202310190000', '202310190520', '202310190530', '202310190540', '202310190600', '202310190610', '202310190630', '202310190640', '202310190650', '202310190700', '202401111520', '202401111530', '202401111540']\n"
     ]
    }
   ],
   "source": [
    "import os\n",
    "\n",
    "# Define the directory path\n",
    "path = \"data_1/meteo\"\n",
    "\n",
    "# Get the list of files in the directory\n",
    "files = os.listdir(path)\n",
    "\n",
    "# Initialize lists to store datetime and temperature values\n",
    "datetimes = []\n",
    "temperatures = []\n",
    "\n",
    "# Loop through all files in the directory\n",
    "for file in files:\n",
    "    # Skip files with .zip extension\n",
    "    if \".zip\" in file:\n",
    "        continue\n",
    "    \n",
    "    # Extract the datetime (assuming it's the second part when splitting by dot)\n",
    "    datetime = file.split('.')[1]\n",
    "    datetimes.append(datetime)\n",
    "\n",
    "    # Read the file content\n",
    "    with open(os.path.join(path, file)) as fh:\n",
    "        file_content = fh.readlines()\n",
    "\n",
    "    # Extract temperature from the 5th line, 3rd element (index 2)\n",
    "    temp = file_content[4].split()[2] \n",
    "    try:\n",
    "        temp=float(temp)\n",
    "    except:\n",
    "        temp=None\n",
    "    \n",
    "    temperatures.append(temp)\n",
    "\n",
    "# Print the results\n",
    "print(\"Temperatures:\", temperatures)\n",
    "print(\"Datetimes:\", datetimes)\n"
   ]
  },
  {
   "cell_type": "code",
   "execution_count": 11,
   "id": "fd17df36",
   "metadata": {},
   "outputs": [
    {
     "name": "stdout",
     "output_type": "stream",
     "text": [
      "[datetime.datetime(2023, 10, 19, 0, 0, tzinfo=datetime.timezone.utc), datetime.datetime(2023, 10, 19, 5, 20, tzinfo=datetime.timezone.utc), datetime.datetime(2023, 10, 19, 5, 30, tzinfo=datetime.timezone.utc), datetime.datetime(2023, 10, 19, 5, 40, tzinfo=datetime.timezone.utc), datetime.datetime(2023, 10, 19, 6, 0, tzinfo=datetime.timezone.utc), datetime.datetime(2023, 10, 19, 6, 10, tzinfo=datetime.timezone.utc), datetime.datetime(2023, 10, 19, 6, 30, tzinfo=datetime.timezone.utc), datetime.datetime(2023, 10, 19, 6, 40, tzinfo=datetime.timezone.utc), datetime.datetime(2023, 10, 19, 6, 50, tzinfo=datetime.timezone.utc), datetime.datetime(2023, 10, 19, 7, 0, tzinfo=datetime.timezone.utc), datetime.datetime(2024, 1, 11, 15, 20, tzinfo=datetime.timezone.utc), datetime.datetime(2024, 1, 11, 15, 30, tzinfo=datetime.timezone.utc), datetime.datetime(2024, 1, 11, 15, 40, tzinfo=datetime.timezone.utc)]\n"
     ]
    }
   ],
   "source": [
    "from datetime import datetime, timezone\n",
    "\n",
    "datetimes_utc = [\n",
    "    datetime.strptime(ds, \"%Y%m%d%H%M\").replace(tzinfo=timezone.utc)\n",
    "    for ds in datetimes\n",
    "]\n",
    "print(datetimes_utc)"
   ]
  },
  {
   "cell_type": "code",
   "execution_count": 12,
   "id": "97e1293a",
   "metadata": {},
   "outputs": [
    {
     "name": "stdout",
     "output_type": "stream",
     "text": [
      "iii zzzztttt tre200s0 uor200s0 prestas0 fa1010z0 da1010z0 rre150z0 ta1200s0 ua1200s0 pa1stas0 fkl010z0 dkl010z0 ra1150z0 fkl010z1 gor000z0 ta2200s0 ua2200s0\n",
      "\n"
     ]
    }
   ],
   "source": [
    "header=file_content[3]\n",
    "print(header)"
   ]
  },
  {
   "cell_type": "code",
   "execution_count": 13,
   "id": "00d45792",
   "metadata": {},
   "outputs": [
    {
     "data": {
      "text/html": [
       "<div><style>\n",
       ".dataframe > thead > tr,\n",
       ".dataframe > tbody > tr {\n",
       "  text-align: right;\n",
       "  white-space: pre-wrap;\n",
       "}\n",
       "</style>\n",
       "<small>shape: (13, 2)</small><table border=\"1\" class=\"dataframe\"><thead><tr><th>dtm</th><th>T</th></tr><tr><td>datetime[μs, UTC]</td><td>f64</td></tr></thead><tbody><tr><td>2023-10-19 00:00:00 UTC</td><td>5.1</td></tr><tr><td>2023-10-19 05:20:00 UTC</td><td>null</td></tr><tr><td>2023-10-19 05:30:00 UTC</td><td>7.3</td></tr><tr><td>2023-10-19 05:40:00 UTC</td><td>7.0</td></tr><tr><td>2023-10-19 06:00:00 UTC</td><td>7.8</td></tr><tr><td>&hellip;</td><td>&hellip;</td></tr><tr><td>2023-10-19 06:50:00 UTC</td><td>8.5</td></tr><tr><td>2023-10-19 07:00:00 UTC</td><td>8.6</td></tr><tr><td>2024-01-11 15:20:00 UTC</td><td>null</td></tr><tr><td>2024-01-11 15:30:00 UTC</td><td>null</td></tr><tr><td>2024-01-11 15:40:00 UTC</td><td>null</td></tr></tbody></table></div>"
      ],
      "text/plain": [
       "shape: (13, 2)\n",
       "┌─────────────────────────┬──────┐\n",
       "│ dtm                     ┆ T    │\n",
       "│ ---                     ┆ ---  │\n",
       "│ datetime[μs, UTC]       ┆ f64  │\n",
       "╞═════════════════════════╪══════╡\n",
       "│ 2023-10-19 00:00:00 UTC ┆ 5.1  │\n",
       "│ 2023-10-19 05:20:00 UTC ┆ null │\n",
       "│ 2023-10-19 05:30:00 UTC ┆ 7.3  │\n",
       "│ 2023-10-19 05:40:00 UTC ┆ 7.0  │\n",
       "│ 2023-10-19 06:00:00 UTC ┆ 7.8  │\n",
       "│ …                       ┆ …    │\n",
       "│ 2023-10-19 06:50:00 UTC ┆ 8.5  │\n",
       "│ 2023-10-19 07:00:00 UTC ┆ 8.6  │\n",
       "│ 2024-01-11 15:20:00 UTC ┆ null │\n",
       "│ 2024-01-11 15:30:00 UTC ┆ null │\n",
       "│ 2024-01-11 15:40:00 UTC ┆ null │\n",
       "└─────────────────────────┴──────┘"
      ]
     },
     "execution_count": 13,
     "metadata": {},
     "output_type": "execute_result"
    }
   ],
   "source": [
    "import polars as pl\n",
    "df = pl.DataFrame(zip(datetimes_utc, temperatures))\n",
    "df.columns=[\"dtm\", \"T\"]\n",
    "df = df.sort(\"dtm\")\n",
    "df"
   ]
  },
  {
   "cell_type": "code",
   "execution_count": 14,
   "id": "100f7030",
   "metadata": {},
   "outputs": [
    {
     "name": "stdout",
     "output_type": "stream",
     "text": [
      "list of header elements: tre200s0\n"
     ]
    }
   ],
   "source": [
    "header_list=header.split()[2]\n",
    "print(\"list of header elements:\",header_list)"
   ]
  },
  {
   "cell_type": "code",
   "execution_count": 15,
   "id": "0e8cc386",
   "metadata": {},
   "outputs": [
    {
     "data": {
      "text/plain": [
       "<matplotlib.collections.PathCollection at 0x21e55bcfcb0>"
      ]
     },
     "execution_count": 15,
     "metadata": {},
     "output_type": "execute_result"
    },
    {
     "data": {
      "image/png": "[encoded data removed]",
      "text/plain": [
       "<Figure size 640x480 with 1 Axes>"
      ]
     },
     "metadata": {},
     "output_type": "display_data"
    }
   ],
   "source": [
    "\n",
    "import matplotlib.pyplot as plt\n",
    "\n",
    "fig = plt.figure()\n",
    "plt.scatter(df[\"dtm\"], df[\"T\"])"
   ]
  },
  {
   "cell_type": "code",
   "execution_count": 2,
   "id": "65736761",
   "metadata": {},
   "outputs": [
    {
     "data": {
      "image/png": "[encoded data removed]",
      "text/plain": [
       "<Figure size 900x600 with 1 Axes>"
      ]
     },
     "metadata": {},
     "output_type": "display_data"
    }
   ],
   "source": [
    "import matplotlib.pyplot as plt\n",
    "import pandas as pd\n",
    "\n",
    "# Sample data\n",
    "data = {\n",
    "    \"Press\": [1000, 900, 800, 700, 600, 500, 400, 300, 200, 100, 50],\n",
    "    \"O3_mPa\": [0.5, 1.2, 2.1, 3.5, 5.0, 7.2, 9.1, 10.0, 7.5, 3.0, 1.0],\n",
    "    \"Temp_C\": [15, 10, 5, 0, -5, -10, -20, -35, -50, -60, -70]\n",
    "}\n",
    "df = pd.DataFrame(data)\n",
    "\n",
    "# Plot both ozone and temperature\n",
    "plt.figure(figsize=(9, 6))\n",
    "plt.plot(df['O3_mPa'], df['Press'], label='O3 (mPa)', marker='o', color='blue')\n",
    "plt.plot(df['Temp_C'], df['Press'], label='Temperature (°C)', marker='x', linestyle='--', color='red')\n",
    "\n",
    "# Invert y-axis\n",
    "plt.gca().invert_yaxis()\n",
    "\n",
    "# Set x-axis range and ticks\n",
    "plt.xlim(-80, 40)\n",
    "plt.xticks(range(-80, 45, 5))\n",
    "\n",
    "# Labels and title\n",
    "plt.xlabel(\"Ozone (mPa) / Temperature (°C)\")\n",
    "plt.ylabel(\"Pressure (hPa)\")\n",
    "plt.title(\"Ozone and Temperature vs Pressure (Same X-axis Scale)\")\n",
    "plt.legend()\n",
    "plt.grid(True)\n",
    "plt.tight_layout()\n",
    "plt.show()\n"
   ]
  }
 ],
 "metadata": {
  "kernelspec": {
   "display_name": ".venv",
   "language": "python",
   "name": "python3"
  },
  "language_info": {
   "codemirror_mode": {
    "name": "ipython",
    "version": 3
   },
   "file_extension": ".py",
   "mimetype": "text/x-python",
   "name": "python",
   "nbconvert_exporter": "python",
   "pygments_lexer": "ipython3",
   "version": "3.13.3"
  }
 },
 "nbformat": 4,
 "nbformat_minor": 5
}
