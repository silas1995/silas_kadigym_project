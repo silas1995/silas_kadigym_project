{
 "cells": [
  {
   "cell_type": "markdown",
   "id": "85ed3b35",
   "metadata": {},
   "source": [
    "#read the file as txt and print\n",
    "#read file in polaris dataframe"
   ]
  },
  {
   "cell_type": "code",
   "execution_count": null,
   "id": "01f929c3",
   "metadata": {},
   "outputs": [
    {
     "name": "stderr",
     "output_type": "stream",
     "text": [
      "<>:2: SyntaxWarning: invalid escape sequence '\\m'\n",
      "<>:2: SyntaxWarning: invalid escape sequence '\\m'\n",
      "C:\\Users\\USER\\AppData\\Local\\Temp\\ipykernel_14732\\2841876819.py:2: SyntaxWarning: invalid escape sequence '\\m'\n",
      "  df=pl.read_csv(\"data_1\\meteo\\VRXA00.202310190000\")\n"
     ]
    },
    {
     "data": {
      "text/html": [
       "<div><style>\n",
       ".dataframe > thead > tr,\n",
       ".dataframe > tbody > tr {\n",
       "  text-align: right;\n",
       "  white-space: pre-wrap;\n",
       "}\n",
       "</style>\n",
       "<small>shape: (4, 1)</small><table border=\"1\" class=\"dataframe\"><thead><tr><th>15834</th></tr><tr><td>str</td></tr></thead><tbody><tr><td>&quot;VRXA00 LSSW 190000&quot;</td></tr><tr><td>null</td></tr><tr><td>&quot;iii zzzztttt tre200s0 uor200s0…</td></tr><tr><td>&quot;187 202310190000 005.1 096.9 0…</td></tr></tbody></table></div>"
      ],
      "text/plain": [
       "shape: (4, 1)\n",
       "┌─────────────────────────────────┐\n",
       "│ 15834                           │\n",
       "│ ---                             │\n",
       "│ str                             │\n",
       "╞═════════════════════════════════╡\n",
       "│ VRXA00 LSSW 190000              │\n",
       "│ null                            │\n",
       "│ iii zzzztttt tre200s0 uor200s0… │\n",
       "│ 187 202310190000 005.1 096.9 0… │\n",
       "└─────────────────────────────────┘"
      ]
     },
     "execution_count": 3,
     "metadata": {},
     "output_type": "execute_result"
    }
   ],
   "source": [
    "import polars as pl\n",
    "df=pl.read_tx  (\"data_1\\meteo\\VRXA00.202310190000\")\n",
    "type(df)\n",
    "df"
   ]
  },
  {
   "cell_type": "code",
   "execution_count": 4,
   "id": "3e7e01e9",
   "metadata": {},
   "outputs": [
    {
     "name": "stderr",
     "output_type": "stream",
     "text": [
      "<>:1: SyntaxWarning: invalid escape sequence '\\m'\n",
      "<>:1: SyntaxWarning: invalid escape sequence '\\m'\n",
      "C:\\Users\\USER\\AppData\\Local\\Temp\\ipykernel_14732\\1736757009.py:1: SyntaxWarning: invalid escape sequence '\\m'\n",
      "  file_path=\"data_1\\meteo\\VRXA00.202310190000\"\n"
     ]
    }
   ],
   "source": [
    "file_path=\"data_1\\meteo\\VRXA00.202310190000\""
   ]
  },
  {
   "cell_type": "code",
   "execution_count": 27,
   "id": "d57458d6",
   "metadata": {},
   "outputs": [
    {
     "name": "stdout",
     "output_type": "stream",
     "text": [
      "['15834\\n', 'VRXA00 LSSW 190000\\n', '\\n', 'iii zzzztttt tre200s0 uor200s0 prestas0 fa1010z0 da1010z0 rre150z0 ta1200s0 ua1200s0 pa1stas0 fkl010z0 dkl010z0 ra1150z0 fkl010z1 gor000z0 ta2200s0 ua2200s0\\n', '187 202310190000 005.1 096.9 0661.2 001.9 190.4 00000.00 004.9 099.7 0661.1 002.3 233.5 00000.00 003.1 000.0 5.440 99.260\\n']\n"
     ]
    }
   ],
   "source": [
    "#read file as text and print contents\n",
    "with open(file=file_path,mode=\"r\") as fh:\n",
    "    file_content=fh.readlines()\n",
    "print(file_content)"
   ]
  },
  {
   "cell_type": "code",
   "execution_count": null,
   "id": "79506e6e",
   "metadata": {},
   "outputs": [],
   "source": []
  },
  {
   "cell_type": "code",
   "execution_count": 39,
   "id": "b7dd83d7",
   "metadata": {},
   "outputs": [
    {
     "name": "stdout",
     "output_type": "stream",
     "text": [
      "187 202310190000 005.1 096.9 0661.2 001.9 190.4 00000.00 004.9 099.7 0661.1 002.3 233.5 00000.00 003.1 000.0 5.440 99.260\n",
      "\n"
     ]
    }
   ],
   "source": [
    "values=file_content[4]\n",
    "print(values)"
   ]
  },
  {
   "cell_type": "code",
   "execution_count": 44,
   "id": "8b3d5f93",
   "metadata": {},
   "outputs": [
    {
     "data": {
      "text/plain": [
       "['15834\\n',\n",
       " 'VRXA00 LSSW 190000\\n',\n",
       " '\\n',\n",
       " 'iii zzzztttt tre200s0 uor200s0 prestas0 fa1010z0 da1010z0 rre150z0 ta1200s0 ua1200s0 pa1stas0 fkl010z0 dkl010z0 ra1150z0 fkl010z1 gor000z0 ta2200s0 ua2200s0\\n',\n",
       " '187 202310190000 005.1 096.9 0661.2 001.9 190.4 00000.00 004.9 099.7 0661.1 002.3 233.5 00000.00 003.1 000.0 5.440 99.260\\n']"
      ]
     },
     "execution_count": 44,
     "metadata": {},
     "output_type": "execute_result"
    }
   ],
   "source": [
    "file_content"
   ]
  },
  {
   "cell_type": "code",
   "execution_count": 43,
   "id": "349a20f8",
   "metadata": {},
   "outputs": [
    {
     "name": "stdout",
     "output_type": "stream",
     "text": [
      "iii zzzztttt tre200s0 uor200s0 prestas0 fa1010z0 da1010z0 rre150z0 ta1200s0 ua1200s0 pa1stas0 fkl010z0 dkl010z0 ra1150z0 fkl010z1 gor000z0 ta2200s0 ua2200s0\n",
      "\n"
     ]
    }
   ],
   "source": [
    "header=file_content[3]\n",
    "print(header)"
   ]
  },
  {
   "cell_type": "code",
   "execution_count": 46,
   "id": "928d9a34",
   "metadata": {},
   "outputs": [
    {
     "name": "stdout",
     "output_type": "stream",
     "text": [
      "['187', '202310190000', '005.1', '096.9', '0661.2', '001.9', '190.4', '00000.00', '004.9', '099.7', '0661.1', '002.3', '233.5', '00000.00', '003.1', '000.0', '5.440', '99.260']\n"
     ]
    }
   ],
   "source": [
    "values=file_content[4].split()\n",
    "print(values)"
   ]
  },
  {
   "cell_type": "code",
   "execution_count": 47,
   "id": "56e40e8f",
   "metadata": {},
   "outputs": [
    {
     "name": "stdout",
     "output_type": "stream",
     "text": [
      "Temperature value: 005.1\n"
     ]
    }
   ],
   "source": [
    "temperature_value=values[2]\n",
    "print(\"Temperature value:\",temperature_value)"
   ]
  },
  {
   "cell_type": "code",
   "execution_count": null,
   "id": "b1f933f3",
   "metadata": {},
   "outputs": [
    {
     "name": "stdout",
     "output_type": "stream",
     "text": [
      "Temperatures: ['005.1', '/', '007.3', '007.0', '007.8', '008.6', '008.0', '008.1', '008.5', '008.6', '/', '/', '/']\n",
      "Datetimes: ['202310190000', '202310190520', '202310190530', '202310190540', '202310190600', '202310190610', '202310190630', '202310190640', '202310190650', '202310190700', '202401111520', '202401111530', '202401111540']\n"
     ]
    }
   ],
   "source": [
    "import os\n",
    "\n",
    "# Define the directory path\n",
    "path = \"data_1/meteo\"\n",
    "\n",
    "# Get the list of files in the directory\n",
    "files = os.listdir(path)\n",
    "\n",
    "# Initialize lists to store datetime and temperature values\n",
    "datetimes = []\n",
    "temperatures = []\n",
    "\n",
    "# Loop through all files in the directory\n",
    "for file in files:\n",
    "    # Skip files with .zip extension\n",
    "    if \".zip\" in file:\n",
    "        continue\n",
    "    \n",
    "    # Extract the datetime (assuming it's the second part when splitting by dot)\n",
    "    datetime = file.split('.')[1]\n",
    "    datetimes.append(datetime)\n",
    "\n",
    "    # Read the file content\n",
    "    with open(os.path.join(path, file)) as fh:\n",
    "        file_content = fh.readlines()\n",
    "\n",
    "    # Extract temperature from the 5th line, 3rd element (index 2)\n",
    "    temp = file_content[4].split()[2].asdatetime and \n",
    "    \n",
    "    temperatures.append(temp)\n",
    "\n",
    "# Print the results\n",
    "print(\"Temperatures:\", temperatures)\n",
    "print(\"Datetimes:\", datetimes)\n"
   ]
  },
  {
   "cell_type": "code",
   "execution_count": 15,
   "id": "97e1293a",
   "metadata": {},
   "outputs": [
    {
     "name": "stdout",
     "output_type": "stream",
     "text": [
      "iii zzzztttt tre200s0 uor200s0 prestas0 fa1010z0 da1010z0 rre150z0 ta1200s0 ua1200s0 pa1stas0 fkl010z0 dkl010z0 ra1150z0 fkl010z1 gor000z0 ta2200s0 ua2200s0\n",
      "\n"
     ]
    }
   ],
   "source": [
    "header=file_content[3]\n",
    "print(header)"
   ]
  },
  {
   "cell_type": "code",
   "execution_count": 18,
   "id": "100f7030",
   "metadata": {},
   "outputs": [
    {
     "name": "stdout",
     "output_type": "stream",
     "text": [
      "list of header elements: tre200s0\n"
     ]
    }
   ],
   "source": [
    "header_list=header.split()[2]\n",
    "print(\"list of header elements:\",header_list)"
   ]
  }
 ],
 "metadata": {
  "kernelspec": {
   "display_name": ".venv",
   "language": "python",
   "name": "python3"
  },
  "language_info": {
   "codemirror_mode": {
    "name": "ipython",
    "version": 3
   },
   "file_extension": ".py",
   "mimetype": "text/x-python",
   "name": "python",
   "nbconvert_exporter": "python",
   "pygments_lexer": "ipython3",
   "version": "3.13.3"
  }
 },
 "nbformat": 4,
 "nbformat_minor": 5
}
